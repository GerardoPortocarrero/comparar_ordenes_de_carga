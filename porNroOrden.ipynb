{
 "cells": [
  {
   "cell_type": "code",
   "execution_count": 21,
   "id": "135a3fb4",
   "metadata": {},
   "outputs": [],
   "source": [
    "# Importaciones\n",
    "import pandas as pd\n",
    "import numpy as np\n",
    "import matplotlib.pyplot as plt\n",
    "import matplotlib.dates as mdates\n",
    "import random\n",
    "from datetime import datetime\n",
    "from pathlib import Path"
   ]
  },
  {
   "cell_type": "code",
   "execution_count": 22,
   "id": "1f8a8025",
   "metadata": {},
   "outputs": [],
   "source": [
    "# Eliminar \"comas\" por \"espacio en blanco\" y \"punto y coma\" por \"coma\"\n",
    "# Abrir, leer y modificar el contenido del archivo\n",
    "def limpiar_archivos(file, output_file):\n",
    "    with open(file, \"r\", encoding=\"utf-8\") as f:\n",
    "        contenido = f.read()\n",
    "\n",
    "    # Reemplazos: primero las comas por espacio, luego los puntos y coma por coma\n",
    "    contenido = contenido.replace(\",\", \" \")\n",
    "    contenido = contenido.replace(\";\", \",\")\n",
    "\n",
    "    # Guardar el contenido modificado en un nuevo archivo (o sobrescribir el original si quieres)\n",
    "    with open(output_file, \"w\", encoding=\"utf-8\") as f:\n",
    "        f.write(contenido)\n",
    "\n",
    "limpiar_archivos(\"ruta.csv\", \"rechazos_ruta.csv\")\n",
    "limpiar_archivos(\"transportista.csv\", \"rechazos_tr.csv\")"
   ]
  },
  {
   "cell_type": "code",
   "execution_count": 23,
   "id": "449cb26a",
   "metadata": {},
   "outputs": [],
   "source": [
    "# ATENCION /.\\: Puede que no lea el csv si hay comas entre nombres de transportistas, etc (ELIMINAR LAS COMAS PRIMERO)\n",
    "ruta = pd.read_csv('rechazos_ruta.csv')\n",
    "tr = pd.read_csv('rechazos_tr.csv')"
   ]
  },
  {
   "cell_type": "code",
   "execution_count": 24,
   "id": "21b8cae4",
   "metadata": {},
   "outputs": [],
   "source": [
    "# eliminar todas las columnas excepto las relevantes\n",
    "ruta = ruta[[\n",
    "    'Locación',\n",
    "    'Ruta Troncal Dinámico',\n",
    "    'Motivo de anulación',\n",
    "    'Número de orden de carga', # main property\n",
    "    'Día',\n",
    "    'Venta Perdida CF',\n",
    "    'Cliente',\n",
    "    'Transportista',\n",
    "    'Nombre Vendedor',\n",
    "]]\n",
    "\n",
    "tr = tr[[\n",
    "    'Locación', \n",
    "    'Código de Transportista',\n",
    "    'Transportista',\n",
    "    'Fecha',\n",
    "    'Orden de Carga', # main property\n",
    "    'Rechazo CF',\n",
    "    'Número de Clientes Programados'\n",
    "]]"
   ]
  },
  {
   "cell_type": "code",
   "execution_count": 25,
   "id": "8c9e6845",
   "metadata": {},
   "outputs": [],
   "source": [
    "# conservar las filas que contenga las siguientes Locaciones (por si acaso lo normal es que no esten estas locaciones)\n",
    "locaciones_tr = ['06 AYA EL PEDREGAL', '38 AYA ATICO', '40 AYA CHALA', '88 AYA CAMANA']\n",
    "tr = tr[tr['Locación'].isin(locaciones_tr)]\n",
    "\n",
    "locaciones_ruta = ['06 AYA EL PEDREGAL', '38 AYA ATICO', '40 AYA CHALA', '88 AYA CAMANA']\n",
    "ruta = ruta[ruta['Locación'].isin(locaciones_ruta)]\n",
    "\n",
    "parse_locaciones = {\n",
    "    '06 AYA EL PEDREGAL': 'El Pedregal',\n",
    "    '38 AYA ATICO': 'Atico',\n",
    "    '40 AYA CHALA': 'Chala',\n",
    "    '88 AYA CAMANA': 'Camana'\n",
    "}"
   ]
  },
  {
   "cell_type": "code",
   "execution_count": 26,
   "id": "648e401c",
   "metadata": {},
   "outputs": [
    {
     "name": "stdout",
     "output_type": "stream",
     "text": [
      "8302\n",
      "3938\n"
     ]
    }
   ],
   "source": [
    "# rellenar los valores NaN con 0\n",
    "ruta = ruta.fillna(0)\n",
    "tr = tr.fillna(0)\n",
    "\n",
    "# eliminar filas cuando la cantidad sea 0\n",
    "ruta = ruta[ruta[\"Venta Perdida CF\"] != 0]\n",
    "tr = tr[tr[\"Rechazo CF\"] != 0]\n",
    "\n",
    "print(len(ruta))\n",
    "print(len(tr))"
   ]
  },
  {
   "cell_type": "code",
   "execution_count": 27,
   "id": "0c470864",
   "metadata": {},
   "outputs": [
    {
     "name": "stderr",
     "output_type": "stream",
     "text": [
      "C:\\Users\\AYACDA23\\AppData\\Local\\Temp\\ipykernel_9920\\2987213995.py:2: UserWarning: Could not infer format, so each element will be parsed individually, falling back to `dateutil`. To ensure parsing is consistent and as-expected, please specify a format.\n",
      "  ruta['Día'] = pd.to_datetime(ruta['Día'], errors='coerce', dayfirst=True)\n"
     ]
    }
   ],
   "source": [
    "# Establecer dia como tipo fecha\n",
    "ruta['Día'] = pd.to_datetime(ruta['Día'], errors='coerce', dayfirst=True)\n",
    "tr['Fecha'] = pd.to_datetime(tr['Fecha'], format='%d/%m/%Y')\n",
    "\n",
    "# Seleccionar la opcion_tiempo de análisis por tiempo\n",
    "opcion_tiempo = int(input(\"(1=Año) (2=Mes) (3=Dia) (4=Intervalo) (5=Mayor igual que)\"))\n",
    "fecha = 0\n",
    "\n",
    "if opcion_tiempo == 1:\n",
    "    fecha = input(\"año\")\n",
    "    fecha_inicio = pd.to_datetime('01/01/'+str(fecha), format='%d/%m/%Y')\n",
    "    fecha_fin = pd.to_datetime('31/12/'+str(fecha), format='%d/%m/%Y')\n",
    "    ruta = ruta[(ruta['Día'] >= fecha_inicio) & (ruta['Día'] <= fecha_fin)]\n",
    "    tr = tr[(tr['Fecha'] >= fecha_inicio) & (tr['Fecha'] <= fecha_fin)]\n",
    "elif opcion_tiempo == 2:\n",
    "    fecha = input(\"mes/año\")\n",
    "    month, year = fecha.split('/')\n",
    "    fecha_inicio = pd.to_datetime('01/'+str(month)+'/'+str(year), format='%d/%m/%Y')\n",
    "    fecha_fin = pd.to_datetime('01/'+str(int(month)+1)+'/'+str(year), format='%d/%m/%Y')\n",
    "    ruta = ruta[(ruta['Día'] >= fecha_inicio) & (ruta['Día'] < fecha_fin)]\n",
    "    tr = tr[(tr['Fecha'] >= fecha_inicio) & (tr['Fecha'] < fecha_fin)]\n",
    "elif opcion_tiempo == 3:\n",
    "    fecha = input(\"dia/mes/año\")\n",
    "    fecha_corte = pd.to_datetime(str(fecha), format='%d/%m/%Y')\n",
    "    ruta = ruta[ruta['Día'] == fecha_corte]\n",
    "    tr = tr[tr['Fecha'] == fecha_corte]\n",
    "elif opcion_tiempo == 4:\n",
    "    fecha = input(\"dia/mes/año dia/mes/año\")\n",
    "    fecha_inicio, fecha_fin = fecha.split(' ')\n",
    "    fecha_inicio = pd.to_datetime(str(fecha_inicio), format='%d/%m/%Y')\n",
    "    fecha_fin = pd.to_datetime(str(fecha_fin), format='%d/%m/%Y')\n",
    "    ruta = ruta[(ruta['Día'] >= fecha_inicio) & (ruta['Día'] <= fecha_fin)]\n",
    "    tr = tr[(tr['Fecha'] >= fecha_inicio) & (tr['Fecha'] <= fecha_fin)]\n",
    "elif opcion_tiempo == 5:\n",
    "    fecha = input(\"dia/mes/año\")\n",
    "    fecha_corte = pd.to_datetime(str(fecha), format='%d/%m/%Y')\n",
    "    ruta = ruta[ruta['Día'] >= fecha_corte]\n",
    "    tr = tr[tr['Fecha'] >= fecha_corte]"
   ]
  },
  {
   "cell_type": "code",
   "execution_count": 28,
   "id": "05869473",
   "metadata": {},
   "outputs": [
    {
     "name": "stdout",
     "output_type": "stream",
     "text": [
      "Venta perdida x Cliente y ruta diaria:  201\n",
      "Reporte de Guías de Distribución por Fecha:  198\n"
     ]
    }
   ],
   "source": [
    "# agrupar por 'Número de orden de carga' y 'Orden de Carga'\n",
    "ruta_grouped = ruta.groupby('Número de orden de carga').agg({\n",
    "    'Locación': 'first',\n",
    "    'Día': 'first',\n",
    "    'Venta Perdida CF': 'sum',\n",
    "    'Cliente': 'first',\n",
    "    'Transportista': 'first',\n",
    "    'Nombre Vendedor': 'first'\n",
    "}).reset_index()\n",
    "print(\"Venta perdida x Cliente y ruta diaria: \", len(ruta_grouped))\n",
    "\n",
    "tr_grouped = tr.groupby('Orden de Carga').agg({\n",
    "    'Locación': 'first',\n",
    "    'Transportista': 'first',\n",
    "    'Fecha': 'first',\n",
    "    'Rechazo CF': 'sum',\n",
    "}).reset_index()\n",
    "print('Reporte de Guías de Distribución por Fecha: ', len(tr_grouped))"
   ]
  },
  {
   "cell_type": "code",
   "execution_count": 29,
   "id": "2429f37f",
   "metadata": {},
   "outputs": [],
   "source": [
    "# Renombrar columnas para que coincidan\n",
    "ruta_ids = ruta_grouped[['Número de orden de carga', 'Día']].copy()\n",
    "ruta_ids.columns = ['Orden', 'Fecha']\n",
    "ruta_ids['Fuente xlsx'] = 'Venta perdida x Cliente y ruta diaria'\n",
    "ruta_ids['Asunto Correo'] = 'Venta perdida diaria por cliente y ruta - acum mes'\n",
    "\n",
    "tr_ids = tr_grouped[['Orden de Carga', 'Fecha']].copy()\n",
    "tr_ids.columns = ['Orden', 'Fecha']\n",
    "tr_ids['Fuente xlsx'] = 'Reporte de Guías de Distribución por Fecha'\n",
    "tr_ids['Asunto Correo'] = 'Reporte de ordenes de carga diario'\n",
    "\n",
    "# Concatenar ambos sets\n",
    "combined = pd.concat([ruta_ids, tr_ids], ignore_index=True)\n",
    "\n",
    "# Contar ocurrencias por Orden y Fecha\n",
    "counts = combined.groupby(['Orden', 'Fecha']).size().reset_index(name='Conteo')\n",
    "\n",
    "# Filtrar los que están en solo una fuente\n",
    "diffs = counts[counts['Conteo'] == 1].drop(columns='Conteo')\n",
    "\n",
    "# Unir de vuelta para saber a qué fuente pertenecen\n",
    "resultado = diffs.merge(combined, on=['Orden', 'Fecha'], how='left')\n",
    "\n",
    "# Ordenar por Fecha y Orden\n",
    "resultado = resultado.sort_values(['Fecha', 'Orden'])\n",
    "\n",
    "# Cambiar orden de columnas\n",
    "resultado = resultado[['Fecha', 'Orden', 'Asunto Correo', 'Fuente xlsx']]"
   ]
  },
  {
   "cell_type": "code",
   "execution_count": 30,
   "id": "608a2bda",
   "metadata": {},
   "outputs": [],
   "source": [
    "# Guardar concatenacion de csv\n",
    "resultado.to_csv(\"incoherenciarRechazos.csv\", index=False, encoding=\"utf-8-sig\")"
   ]
  }
 ],
 "metadata": {
  "kernelspec": {
   "display_name": "Python 3",
   "language": "python",
   "name": "python3"
  },
  "language_info": {
   "codemirror_mode": {
    "name": "ipython",
    "version": 3
   },
   "file_extension": ".py",
   "mimetype": "text/x-python",
   "name": "python",
   "nbconvert_exporter": "python",
   "pygments_lexer": "ipython3",
   "version": "3.13.3"
  }
 },
 "nbformat": 4,
 "nbformat_minor": 5
}
